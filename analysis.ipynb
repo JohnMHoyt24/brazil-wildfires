{
 "cells": [
  {
   "cell_type": "markdown",
   "metadata": {},
   "source": [
    "In Brazil, forest fires have occurred at high numbers during the year in certain areas, while other areas experienced lower numbers during that same year.\n",
    "\n",
    "The dataset was retrieved from Kaggle (https://www.kaggle.com/gustavomodelli/forest-fires-in-brazil). The data pertains to forest fires from the\n",
    "years of 1998 to 2017.\n"
   ]
  },
  {
   "cell_type": "markdown",
   "metadata": {},
   "source": [
    "With this analysis, I'll be utilizing the following packages:\n",
    "  - Numpy\n",
    "  - Pandas\n",
    "  - MatPlotLib\n",
    "  - Sci-Kit Learn"
   ]
  },
  {
   "cell_type": "code",
   "execution_count": 2,
   "metadata": {},
   "outputs": [],
   "source": [
    "import numpy as np\n",
    "import pandas as pd\n",
    "\n",
    "import matplotlib.pyplot as plt\n",
    "from sklearn.model_selection import train_test_split #the data is split into a training set and a testing set\n",
    "from sklearn.metrics import mean_squared_error\n"
   ]
  },
  {
   "source": [
    "Now, it's time to import the data!"
   ],
   "cell_type": "markdown",
   "metadata": {}
  },
  {
   "cell_type": "code",
   "execution_count": 4,
   "metadata": {},
   "outputs": [],
   "source": [
    "#data = pd.read_csv(\"amazon.csv\")\n",
    "data=pd.read_csv(r\"amazon.csv\",encoding='latin1')\n"
   ]
  },
  {
   "source": [
    "Now, I must clean the data."
   ],
   "cell_type": "markdown",
   "metadata": {}
  },
  {
   "cell_type": "code",
   "execution_count": 9,
   "metadata": {},
   "outputs": [],
   "source": [
    "#First, I'll change the names of the columns\n",
    "data.rename(columns={\n",
    "    'state': 'State',\n",
    "    'month': 'Month',\n",
    "    'year': 'Year',\n",
    "    'number': '# of Fires',\n",
    "    'date': 'Date'\n",
    "}, inplace=True)\n",
    "\n",
    "#Next, I'll get rid of duplicate values for the nubmer of fires\n",
    "data = data.drop_duplicates(subset=['# of Fires'], keep='first').copy()\n",
    "\n",
    "#Now, I'll calculate the median number of fires per year\n",
    "data['# of Fires'] = data['# of Fires'].fillna(data.groupby('Year')['# of Fires'].transform('median'))\n",
    "\n",
    "#Now, I'll calculate the median number of fires per state\n",
    "data['# of Fires'] = data['# of Fires'].fillna(data.groupby('State')['# of Fires'].transform('median'))\n",
    "\n",
    "#This will calculate the sum of the fires per year\n",
    "data['# of Fires'] = data['# of Fires'].fillna(data.groupby('Year')['# of Fires'].transform('sum'))\n",
    "\n",
    "#This will calculate the sum of the fires per state\n",
    "data['# of Fires'] = data['# of Fires'].fillna(data.groupby('State')['# of Fires'].transform('sum'))\n"
   ]
  },
  {
   "source": [
    "Feature engineering will now take place. woo hoo!"
   ],
   "cell_type": "markdown",
   "metadata": {}
  }
 ],
 "metadata": {
  "kernelspec": {
   "display_name": "Python 3",
   "language": "python",
   "name": "python3"
  },
  "language_info": {
   "codemirror_mode": {
    "name": "ipython",
    "version": 3
   },
   "file_extension": ".py",
   "mimetype": "text/x-python",
   "name": "python",
   "nbconvert_exporter": "python",
   "pygments_lexer": "ipython3",
   "version": "3.7.7-final"
  }
 },
 "nbformat": 4,
 "nbformat_minor": 2
}